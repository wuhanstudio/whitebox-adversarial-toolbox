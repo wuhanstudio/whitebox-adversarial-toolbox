{
 "cells": [
  {
   "cell_type": "code",
   "execution_count": 1,
   "metadata": {},
   "outputs": [],
   "source": [
    "import what.utils.logger as log\n",
    "\n",
    "logger = log.get_logger(__name__)"
   ]
  },
  {
   "cell_type": "code",
   "execution_count": 2,
   "metadata": {},
   "outputs": [],
   "source": [
    "import torch\n",
    "device = torch.device(\"cuda:0\" if torch.cuda.is_available() else \"cpu\")"
   ]
  },
  {
   "cell_type": "code",
   "execution_count": 3,
   "metadata": {},
   "outputs": [],
   "source": [
    "pretrained_ssd = \"models/mobilenet-v1-ssd-mp-0_675.pth\"\n",
    "checkpoint_folder = \"models/\""
   ]
  },
  {
   "cell_type": "markdown",
   "metadata": {},
   "source": [
    "# Load Training Dataset"
   ]
  },
  {
   "cell_type": "code",
   "execution_count": 4,
   "metadata": {},
   "outputs": [],
   "source": [
    "batch_size = 32\n",
    "num_workers = 0"
   ]
  },
  {
   "cell_type": "code",
   "execution_count": 5,
   "metadata": {},
   "outputs": [],
   "source": [
    "import fiftyone as fo\n",
    "import fiftyone.zoo as foz\n",
    "from torch.utils.data import DataLoader\n",
    "\n",
    "from what.models.detection.ssd.datasets.fiftyone import FiftyOneDataset"
   ]
  },
  {
   "cell_type": "code",
   "execution_count": 6,
   "metadata": {},
   "outputs": [],
   "source": [
    "from what.models.detection.ssd.ssd.preprocessing import TrainAugmentation, TestTransform\n",
    "from what.models.detection.ssd.ssd.config import mobilenetv1_ssd_config\n",
    "from what.models.detection.ssd.ssd.ssd import MatchPrior"
   ]
  },
  {
   "cell_type": "code",
   "execution_count": 7,
   "metadata": {},
   "outputs": [],
   "source": [
    "# Load MobileNetSSD configuration\n",
    "config              = mobilenetv1_ssd_config\n",
    "train_transform     = TrainAugmentation(config.image_size, config.image_mean, config.image_std)\n",
    "target_transform    = MatchPrior(config.priors, config.center_variance, config.size_variance, 0.5)\n",
    "test_transform      = TestTransform(config.image_size, config.image_mean, config.image_std)"
   ]
  },
  {
   "cell_type": "code",
   "execution_count": 8,
   "metadata": {
    "scrolled": true
   },
   "outputs": [
    {
     "name": "stdout",
     "output_type": "stream",
     "text": [
      "Split 'train' already downloaded\n",
      "Loading 'voc-2012' split 'train'\n",
      " 100% |███████████████| 5717/5717 [12.2s elapsed, 0s remaining, 373.4 samples/s]      \n",
      "Dataset 'voc-2012-train' created\n"
     ]
    }
   ],
   "source": [
    "# Load the data from fiftyone\n",
    "voc_2012_train = foz.load_zoo_dataset(\"voc-2012\", split=\"train\")"
   ]
  },
  {
   "cell_type": "code",
   "execution_count": 9,
   "metadata": {
    "scrolled": true
   },
   "outputs": [
    {
     "data": {
      "text/html": [
       "\n",
       "        <iframe\n",
       "            width=\"100%\"\n",
       "            height=\"800\"\n",
       "            src=\"http://localhost:5151/?notebook=true&handleId=0503a987-983f-46e2-aae4-d53ca930e84d\"\n",
       "            frameborder=\"0\"\n",
       "            allowfullscreen\n",
       "        ></iframe>\n",
       "        "
      ],
      "text/plain": [
       "<IPython.lib.display.IFrame at 0x20777396848>"
      ]
     },
     "metadata": {},
     "output_type": "display_data"
    }
   ],
   "source": [
    "# Visualize the dataset\n",
    "session = fo.launch_app(voc_2012_train)"
   ]
  },
  {
   "cell_type": "code",
   "execution_count": 10,
   "metadata": {},
   "outputs": [
    {
     "name": "stderr",
     "output_type": "stream",
     "text": [
      "[INFO] 2022-01-14 16:08:22,270 __main__: Train dataset size: 5717\n"
     ]
    }
   ],
   "source": [
    "# Convert to pytorch dataloader\n",
    "train_dataset = FiftyOneDataset(voc_2012_train, \n",
    "                                foz.load_zoo_dataset_info(\"voc-2012\").classes, \n",
    "                                transform=train_transform,\n",
    "                                target_transform=target_transform)\n",
    "\n",
    "# Load Training Dataset from Local Disk\n",
    "# train_dataset = VOCDataset(\"examples/VOC2012\", transform=train_transform,\n",
    "#                              target_transform=target_transform)\n",
    "\n",
    "train_loader  = DataLoader(train_dataset, batch_size,\n",
    "                          num_workers=num_workers,\n",
    "                          shuffle=True)\n",
    "\n",
    "logger.info(\"Train dataset size: {}\".format(len(train_dataset)))"
   ]
  },
  {
   "cell_type": "markdown",
   "metadata": {},
   "source": [
    "# Load Validation Dataset"
   ]
  },
  {
   "cell_type": "code",
   "execution_count": 11,
   "metadata": {},
   "outputs": [
    {
     "name": "stdout",
     "output_type": "stream",
     "text": [
      "Split 'train' already downloaded\n",
      "Loading 'voc-2007' split 'train'\n",
      " 100% |███████████████| 2501/2501 [6.6s elapsed, 0s remaining, 348.8 samples/s]       \n",
      "Dataset 'voc-2007-train' created\n"
     ]
    },
    {
     "name": "stderr",
     "output_type": "stream",
     "text": [
      "[INFO] 2022-01-14 16:08:29,287 __main__: validation dataset size: 2501\n"
     ]
    }
   ],
   "source": [
    "# Load Validation Dataset from FiftyOne (use voc-2007 train as validation here)\n",
    "val_dataset  = FiftyOneDataset(foz.load_zoo_dataset(\"voc-2007\", split=\"train\"), \n",
    "                                        foz.load_zoo_dataset_info(\"voc-2007\").classes,\n",
    "                                        transform=test_transform,\n",
    "                                        target_transform=target_transform)\n",
    "\n",
    "# Load Validation Dataset from Local Disk\n",
    "# val_dataset = VOCDataset(\"VOC2007/\", transform=test_transform,\n",
    "#                              target_transform=target_transform, is_test=True)\n",
    "\n",
    "val_loader = DataLoader(val_dataset, batch_size,\n",
    "                        num_workers=num_workers,\n",
    "                        shuffle=False)\n",
    "\n",
    "logger.info(\"validation dataset size: {}\".format(len(val_dataset)))"
   ]
  },
  {
   "cell_type": "markdown",
   "metadata": {},
   "source": [
    "# Train Mobilenet V1 SSD"
   ]
  },
  {
   "cell_type": "code",
   "execution_count": 12,
   "metadata": {},
   "outputs": [],
   "source": [
    "from what.models.detection.ssd.mobilenet_v1_ssd import MobileNetV1SSD"
   ]
  },
  {
   "cell_type": "code",
   "execution_count": 13,
   "metadata": {
    "scrolled": true
   },
   "outputs": [
    {
     "name": "stderr",
     "output_type": "stream",
     "text": [
      "[INFO] 2022-01-14 16:08:29,387 what.models.detection.ssd.mobilenet_v1_ssd: Init from pretrained ssd models/mobilenet-v1-ssd-mp-0_675.pth\n",
      "[INFO] 2022-01-14 16:08:29,463 what.models.detection.ssd.mobilenet_v1_ssd: Start training using CosineAnnealingLR scheduler.\n",
      "[INFO] 2022-01-14 16:10:14,549 what.models.detection.ssd.mobilenet_v1_ssd: Epoch: 0, Step: 10, Average Loss: 19.7178, Average Regression Loss 3.9547, Average Classification Loss: 15.7630\n",
      "[INFO] 2022-01-14 16:11:50,808 what.models.detection.ssd.mobilenet_v1_ssd: Epoch: 0, Step: 20, Average Loss: 14.1856, Average Regression Loss 3.1112, Average Classification Loss: 11.0743\n",
      "[INFO] 2022-01-14 16:13:27,665 what.models.detection.ssd.mobilenet_v1_ssd: Epoch: 0, Step: 30, Average Loss: 11.7552, Average Regression Loss 2.9490, Average Classification Loss: 8.8062\n",
      "[INFO] 2022-01-14 16:15:05,689 what.models.detection.ssd.mobilenet_v1_ssd: Epoch: 0, Step: 40, Average Loss: 9.8950, Average Regression Loss 2.8774, Average Classification Loss: 7.0176\n",
      "[INFO] 2022-01-14 16:16:47,181 what.models.detection.ssd.mobilenet_v1_ssd: Epoch: 0, Step: 50, Average Loss: 8.7432, Average Regression Loss 2.6644, Average Classification Loss: 6.0787\n",
      "[INFO] 2022-01-14 16:18:16,165 what.models.detection.ssd.mobilenet_v1_ssd: Epoch: 0, Step: 60, Average Loss: 8.0869, Average Regression Loss 2.6960, Average Classification Loss: 5.3909\n",
      "[INFO] 2022-01-14 16:19:51,269 what.models.detection.ssd.mobilenet_v1_ssd: Epoch: 0, Step: 70, Average Loss: 7.6715, Average Regression Loss 2.5609, Average Classification Loss: 5.1106\n",
      "[INFO] 2022-01-14 16:21:25,915 what.models.detection.ssd.mobilenet_v1_ssd: Epoch: 0, Step: 80, Average Loss: 7.2722, Average Regression Loss 2.3570, Average Classification Loss: 4.9152\n",
      "[INFO] 2022-01-14 16:23:01,117 what.models.detection.ssd.mobilenet_v1_ssd: Epoch: 0, Step: 90, Average Loss: 7.0848, Average Regression Loss 2.3143, Average Classification Loss: 4.7705\n",
      "[INFO] 2022-01-14 16:24:34,791 what.models.detection.ssd.mobilenet_v1_ssd: Epoch: 0, Step: 100, Average Loss: 6.8580, Average Regression Loss 2.2425, Average Classification Loss: 4.6155\n",
      "[INFO] 2022-01-14 16:26:07,986 what.models.detection.ssd.mobilenet_v1_ssd: Epoch: 0, Step: 110, Average Loss: 6.5071, Average Regression Loss 1.9527, Average Classification Loss: 4.5544\n",
      "[INFO] 2022-01-14 16:27:45,671 what.models.detection.ssd.mobilenet_v1_ssd: Epoch: 0, Step: 120, Average Loss: 6.4948, Average Regression Loss 1.9691, Average Classification Loss: 4.5258\n",
      "[INFO] 2022-01-14 16:29:23,788 what.models.detection.ssd.mobilenet_v1_ssd: Epoch: 0, Step: 130, Average Loss: 6.7189, Average Regression Loss 2.0766, Average Classification Loss: 4.6423\n",
      "[INFO] 2022-01-14 16:31:02,956 what.models.detection.ssd.mobilenet_v1_ssd: Epoch: 0, Step: 140, Average Loss: 6.2868, Average Regression Loss 1.8698, Average Classification Loss: 4.4170\n",
      "[INFO] 2022-01-14 16:32:36,921 what.models.detection.ssd.mobilenet_v1_ssd: Epoch: 0, Step: 150, Average Loss: 6.2622, Average Regression Loss 1.8426, Average Classification Loss: 4.4196\n",
      "[INFO] 2022-01-14 16:34:12,785 what.models.detection.ssd.mobilenet_v1_ssd: Epoch: 0, Step: 160, Average Loss: 6.2402, Average Regression Loss 1.8403, Average Classification Loss: 4.4000\n",
      "[INFO] 2022-01-14 16:35:50,554 what.models.detection.ssd.mobilenet_v1_ssd: Epoch: 0, Step: 170, Average Loss: 6.0396, Average Regression Loss 1.6929, Average Classification Loss: 4.3467\n",
      "[INFO] 2022-01-14 16:41:17,385 what.models.detection.ssd.mobilenet_v1_ssd: Epoch: 0, Validation Loss: 5.8143, Validation Regression Loss 1.6887, Validation Classification Loss: 4.1257\n",
      "[INFO] 2022-01-14 16:41:17,445 what.models.detection.ssd.mobilenet_v1_ssd: Saved model models/mobilenet-v1-ssd-Epoch-0-Loss-5.814328284203252.pth\n"
     ]
    }
   ],
   "source": [
    "# Create SSD network and load pretrained base net.\n",
    "model = MobileNetV1SSD(is_test=False)\n",
    "\n",
    "model.train(train_loader, val_loader, device=device, num_epochs=1, debug_steps=10, validation_epochs=1,\n",
    "           pretrained_ssd = pretrained_ssd, checkpoint_folder = checkpoint_folder)"
   ]
  },
  {
   "cell_type": "code",
   "execution_count": null,
   "metadata": {},
   "outputs": [],
   "source": []
  }
 ],
 "metadata": {
  "kernelspec": {
   "display_name": "Python 3",
   "language": "python",
   "name": "python3"
  },
  "language_info": {
   "codemirror_mode": {
    "name": "ipython",
    "version": 3
   },
   "file_extension": ".py",
   "mimetype": "text/x-python",
   "name": "python",
   "nbconvert_exporter": "python",
   "pygments_lexer": "ipython3",
   "version": "3.7.9"
  }
 },
 "nbformat": 4,
 "nbformat_minor": 4
}
