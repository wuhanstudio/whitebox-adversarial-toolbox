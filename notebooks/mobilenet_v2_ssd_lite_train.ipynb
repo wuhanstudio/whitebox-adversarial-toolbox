{
 "cells": [
  {
   "cell_type": "code",
   "execution_count": 1,
   "metadata": {},
   "outputs": [],
   "source": [
    "import what.utils.logger as log\n",
    "\n",
    "logger = log.get_logger(__name__)"
   ]
  },
  {
   "cell_type": "code",
   "execution_count": 2,
   "metadata": {},
   "outputs": [],
   "source": [
    "import torch\n",
    "device = torch.device(\"cuda:0\" if torch.cuda.is_available() else \"cpu\")"
   ]
  },
  {
   "cell_type": "code",
   "execution_count": 3,
   "metadata": {},
   "outputs": [],
   "source": [
    "pretrained_ssd = \"models/mobilenet-v2-ssd-lite-mp-0_686.pth\"\n",
    "checkpoint_folder = \"models/\""
   ]
  },
  {
   "cell_type": "markdown",
   "metadata": {},
   "source": [
    "# Load Training Dataset"
   ]
  },
  {
   "cell_type": "code",
   "execution_count": 4,
   "metadata": {},
   "outputs": [],
   "source": [
    "batch_size = 32\n",
    "num_workers = 0"
   ]
  },
  {
   "cell_type": "code",
   "execution_count": 5,
   "metadata": {},
   "outputs": [],
   "source": [
    "import fiftyone as fo\n",
    "import fiftyone.zoo as foz\n",
    "from torch.utils.data import DataLoader\n",
    "\n",
    "from what.models.detection.datasets.fiftyone import FiftyOneDataset"
   ]
  },
  {
   "cell_type": "code",
   "execution_count": 6,
   "metadata": {},
   "outputs": [],
   "source": [
    "from what.models.detection.ssd.ssd.preprocessing import TrainAugmentation, TestTransform\n",
    "from what.models.detection.ssd.ssd import mobilenetv1_ssd_config\n",
    "from what.models.detection.ssd.ssd.ssd import MatchPrior"
   ]
  },
  {
   "cell_type": "code",
   "execution_count": 7,
   "metadata": {},
   "outputs": [],
   "source": [
    "# Load MobileNetSSD configuration\n",
    "config              = mobilenetv1_ssd_config\n",
    "train_transform     = TrainAugmentation(config.image_size, config.image_mean, config.image_std)\n",
    "target_transform    = MatchPrior(config.priors, config.center_variance, config.size_variance, 0.5)\n",
    "test_transform      = TestTransform(config.image_size, config.image_mean, config.image_std)"
   ]
  },
  {
   "cell_type": "code",
   "execution_count": 8,
   "metadata": {
    "scrolled": true
   },
   "outputs": [
    {
     "name": "stdout",
     "output_type": "stream",
     "text": [
      "Split 'train' already downloaded\n",
      "Loading 'voc-2012' split 'train'\n",
      " 100% |███████████████| 5717/5717 [8.9s elapsed, 0s remaining, 558.8 samples/s]      \n",
      "Dataset 'voc-2012-train' created\n"
     ]
    }
   ],
   "source": [
    "# Load the data from fiftyone\n",
    "voc_2012_train = foz.load_zoo_dataset(\"voc-2012\", split=\"train\")"
   ]
  },
  {
   "cell_type": "markdown",
   "metadata": {},
   "source": [
    "### Visualize the dataset"
   ]
  },
  {
   "cell_type": "code",
   "execution_count": null,
   "metadata": {
    "scrolled": true
   },
   "outputs": [],
   "source": [
    "session = fo.launch_app(voc_2012_train)"
   ]
  },
  {
   "cell_type": "code",
   "execution_count": 9,
   "metadata": {},
   "outputs": [
    {
     "name": "stderr",
     "output_type": "stream",
     "text": [
      "[INFO] 2022-01-20 15:19:10,313 __main__: Train dataset size: 5717\n"
     ]
    }
   ],
   "source": [
    "# Convert to pytorch dataloader\n",
    "train_dataset = FiftyOneDataset(voc_2012_train, \n",
    "                                foz.load_zoo_dataset_info(\"voc-2012\").classes, \n",
    "                                transform=train_transform,\n",
    "                                target_transform=target_transform)\n",
    "\n",
    "# Load Training Dataset from Local Disk\n",
    "# train_dataset = VOCDataset(\"examples/VOC2012\", transform=train_transform,\n",
    "#                              target_transform=target_transform)\n",
    "\n",
    "train_loader  = DataLoader(train_dataset, batch_size,\n",
    "                          num_workers=num_workers,\n",
    "                          shuffle=True)\n",
    "\n",
    "logger.info(\"Train dataset size: {}\".format(len(train_dataset)))"
   ]
  },
  {
   "cell_type": "markdown",
   "metadata": {},
   "source": [
    "# Load Validation Dataset"
   ]
  },
  {
   "cell_type": "code",
   "execution_count": 10,
   "metadata": {},
   "outputs": [
    {
     "name": "stdout",
     "output_type": "stream",
     "text": [
      "Split 'train' already downloaded\n",
      "Loading 'voc-2007' split 'train'\n",
      " 100% |███████████████| 2501/2501 [4.0s elapsed, 0s remaining, 601.4 samples/s]      \n",
      "Dataset 'voc-2007-train' created\n"
     ]
    },
    {
     "name": "stderr",
     "output_type": "stream",
     "text": [
      "[INFO] 2022-01-20 15:19:19,868 __main__: validation dataset size: 2501\n"
     ]
    }
   ],
   "source": [
    "# Load Validation Dataset from FiftyOne (use voc-2007 train as validation here)\n",
    "val_dataset  = FiftyOneDataset(foz.load_zoo_dataset(\"voc-2007\", split=\"train\"), \n",
    "                                        foz.load_zoo_dataset_info(\"voc-2007\").classes,\n",
    "                                        transform=test_transform,\n",
    "                                        target_transform=target_transform)\n",
    "\n",
    "# Load Validation Dataset from Local Disk\n",
    "# val_dataset = VOCDataset(\"VOC2007/\", transform=test_transform,\n",
    "#                              target_transform=target_transform, is_test=True)\n",
    "\n",
    "val_loader = DataLoader(val_dataset, batch_size,\n",
    "                        num_workers=num_workers,\n",
    "                        shuffle=False)\n",
    "\n",
    "logger.info(\"validation dataset size: {}\".format(len(val_dataset)))"
   ]
  },
  {
   "cell_type": "markdown",
   "metadata": {},
   "source": [
    "# Train Mobilenet V2 SSD Lite"
   ]
  },
  {
   "cell_type": "code",
   "execution_count": 11,
   "metadata": {},
   "outputs": [],
   "source": [
    "from what.models.detection.ssd.mobilenet_v2_ssd_lite import MobileNetV2SSDLite"
   ]
  },
  {
   "cell_type": "code",
   "execution_count": 12,
   "metadata": {
    "scrolled": true
   },
   "outputs": [
    {
     "name": "stderr",
     "output_type": "stream",
     "text": [
      "[INFO] 2022-01-20 15:19:21,969 what.models.detection.ssd.mobilenet_v2_ssd_lite: Init from pretrained ssd models/mobilenet-v2-ssd-lite-mp-0_686.pth\n",
      "[INFO] 2022-01-20 15:19:23,485 what.models.detection.ssd.mobilenet_v2_ssd_lite: Start training using CosineAnnealingLR scheduler.\n",
      "/home/wuhanstudio/whitebox-adversarial-toolbox/what/models/detection/ssd/transforms/transforms.py:243: VisibleDeprecationWarning: Creating an ndarray from ragged nested sequences (which is a list-or-tuple of lists-or-tuples-or ndarrays with different lengths or shapes) is deprecated. If you meant to do this, you must specify 'dtype=object' when creating the ndarray\n",
      "  mode = random.choice(self.sample_options)\n",
      "[INFO] 2022-01-20 15:19:30,772 what.models.detection.ssd.mobilenet_v2_ssd_lite: Epoch: 0, Step: 10, Average Loss: 22.4619, Average Regression Loss 4.4787, Average Classification Loss: 17.9832\n",
      "[INFO] 2022-01-20 15:19:36,505 what.models.detection.ssd.mobilenet_v2_ssd_lite: Epoch: 0, Step: 20, Average Loss: 16.7913, Average Regression Loss 3.0656, Average Classification Loss: 13.7256\n",
      "[INFO] 2022-01-20 15:19:41,998 what.models.detection.ssd.mobilenet_v2_ssd_lite: Epoch: 0, Step: 30, Average Loss: 14.7045, Average Regression Loss 2.6134, Average Classification Loss: 12.0911\n",
      "[INFO] 2022-01-20 15:19:47,596 what.models.detection.ssd.mobilenet_v2_ssd_lite: Epoch: 0, Step: 40, Average Loss: 13.2272, Average Regression Loss 2.4601, Average Classification Loss: 10.7672\n",
      "[INFO] 2022-01-20 15:19:52,939 what.models.detection.ssd.mobilenet_v2_ssd_lite: Epoch: 0, Step: 50, Average Loss: 11.8774, Average Regression Loss 2.2516, Average Classification Loss: 9.6258\n",
      "[INFO] 2022-01-20 15:19:58,436 what.models.detection.ssd.mobilenet_v2_ssd_lite: Epoch: 0, Step: 60, Average Loss: 10.7188, Average Regression Loss 2.0749, Average Classification Loss: 8.6439\n",
      "[INFO] 2022-01-20 15:20:03,903 what.models.detection.ssd.mobilenet_v2_ssd_lite: Epoch: 0, Step: 70, Average Loss: 9.7846, Average Regression Loss 1.9844, Average Classification Loss: 7.8002\n",
      "[INFO] 2022-01-20 15:20:09,396 what.models.detection.ssd.mobilenet_v2_ssd_lite: Epoch: 0, Step: 80, Average Loss: 9.1677, Average Regression Loss 1.9280, Average Classification Loss: 7.2397\n",
      "[INFO] 2022-01-20 15:20:15,087 what.models.detection.ssd.mobilenet_v2_ssd_lite: Epoch: 0, Step: 90, Average Loss: 8.3999, Average Regression Loss 1.8497, Average Classification Loss: 6.5502\n",
      "[INFO] 2022-01-20 15:20:20,707 what.models.detection.ssd.mobilenet_v2_ssd_lite: Epoch: 0, Step: 100, Average Loss: 8.1247, Average Regression Loss 1.8390, Average Classification Loss: 6.2858\n",
      "[INFO] 2022-01-20 15:20:26,357 what.models.detection.ssd.mobilenet_v2_ssd_lite: Epoch: 0, Step: 110, Average Loss: 7.5742, Average Regression Loss 1.7693, Average Classification Loss: 5.8050\n",
      "[INFO] 2022-01-20 15:20:31,913 what.models.detection.ssd.mobilenet_v2_ssd_lite: Epoch: 0, Step: 120, Average Loss: 7.2049, Average Regression Loss 1.6242, Average Classification Loss: 5.5806\n",
      "[INFO] 2022-01-20 15:20:37,572 what.models.detection.ssd.mobilenet_v2_ssd_lite: Epoch: 0, Step: 130, Average Loss: 7.0155, Average Regression Loss 1.6143, Average Classification Loss: 5.4012\n",
      "[INFO] 2022-01-20 15:20:43,201 what.models.detection.ssd.mobilenet_v2_ssd_lite: Epoch: 0, Step: 140, Average Loss: 6.7932, Average Regression Loss 1.6494, Average Classification Loss: 5.1437\n",
      "[INFO] 2022-01-20 15:20:48,845 what.models.detection.ssd.mobilenet_v2_ssd_lite: Epoch: 0, Step: 150, Average Loss: 6.6904, Average Regression Loss 1.6793, Average Classification Loss: 5.0111\n",
      "[INFO] 2022-01-20 15:20:54,339 what.models.detection.ssd.mobilenet_v2_ssd_lite: Epoch: 0, Step: 160, Average Loss: 6.3619, Average Regression Loss 1.5082, Average Classification Loss: 4.8537\n",
      "[INFO] 2022-01-20 15:21:00,049 what.models.detection.ssd.mobilenet_v2_ssd_lite: Epoch: 0, Step: 170, Average Loss: 6.4377, Average Regression Loss 1.6567, Average Classification Loss: 4.7809\n",
      "[INFO] 2022-01-20 15:21:24,724 what.models.detection.ssd.mobilenet_v2_ssd_lite: Epoch: 0, Validation Loss: 5.8414, Validation Regression Loss 1.4633, Validation Classification Loss: 4.3781\n",
      "[INFO] 2022-01-20 15:21:24,755 what.models.detection.ssd.mobilenet_v2_ssd_lite: Saved model models/mobilenet-v2-ssd-lite-Epoch-0-Loss-5.841379413121863.pth\n"
     ]
    }
   ],
   "source": [
    "# Create SSD network and load pretrained base net.\n",
    "model = MobileNetV2SSDLite(is_test=False, class_names=train_dataset.classes)\n",
    "\n",
    "model.train(train_loader, val_loader, device=device, num_epochs=1, debug_steps=10, validation_epochs=1,\n",
    "           pretrained_ssd = pretrained_ssd, checkpoint_folder = checkpoint_folder)"
   ]
  },
  {
   "cell_type": "code",
   "execution_count": null,
   "metadata": {},
   "outputs": [],
   "source": []
  }
 ],
 "metadata": {
  "kernelspec": {
   "display_name": "Python 3",
   "language": "python",
   "name": "python3"
  },
  "language_info": {
   "codemirror_mode": {
    "name": "ipython",
    "version": 3
   },
   "file_extension": ".py",
   "mimetype": "text/x-python",
   "name": "python",
   "nbconvert_exporter": "python",
   "pygments_lexer": "ipython3",
   "version": "3.8.5"
  }
 },
 "nbformat": 4,
 "nbformat_minor": 4
}
