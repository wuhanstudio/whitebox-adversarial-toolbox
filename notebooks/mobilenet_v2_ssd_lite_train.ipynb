{
 "cells": [
  {
   "cell_type": "code",
   "execution_count": 1,
   "metadata": {},
   "outputs": [],
   "source": [
    "import what.utils.logger as log\n",
    "\n",
    "logger = log.get_logger(__name__)"
   ]
  },
  {
   "cell_type": "code",
   "execution_count": 2,
   "metadata": {},
   "outputs": [],
   "source": [
    "import torch\n",
    "device = torch.device(\"cuda:0\" if torch.cuda.is_available() else \"cpu\")"
   ]
  },
  {
   "cell_type": "code",
   "execution_count": 3,
   "metadata": {},
   "outputs": [],
   "source": [
    "pretrained_ssd = \"models/mobilenet-v2-ssd-lite-mp-0_686.pth\"\n",
    "checkpoint_folder = \"models/\""
   ]
  },
  {
   "cell_type": "markdown",
   "metadata": {},
   "source": [
    "# Load Training Dataset"
   ]
  },
  {
   "cell_type": "code",
   "execution_count": 4,
   "metadata": {},
   "outputs": [],
   "source": [
    "batch_size = 32\n",
    "num_workers = 0"
   ]
  },
  {
   "cell_type": "code",
   "execution_count": 5,
   "metadata": {},
   "outputs": [],
   "source": [
    "import fiftyone as fo\n",
    "import fiftyone.zoo as foz\n",
    "from torch.utils.data import DataLoader\n",
    "\n",
    "from what.models.detection.datasets.fiftyone import FiftyOneDataset"
   ]
  },
  {
   "cell_type": "code",
   "execution_count": 6,
   "metadata": {},
   "outputs": [],
   "source": [
    "from what.models.detection.ssd.ssd.preprocessing import TrainAugmentation, TestTransform\n",
    "from what.models.detection.ssd.ssd import mobilenet_ssd_config\n",
    "from what.models.detection.ssd.ssd.ssd import MatchPrior"
   ]
  },
  {
   "cell_type": "code",
   "execution_count": 7,
   "metadata": {},
   "outputs": [],
   "source": [
    "# Load MobileNetSSD configuration\n",
    "config              = mobilenet_ssd_config\n",
    "train_transform     = TrainAugmentation(config.image_size, config.image_mean, config.image_std)\n",
    "target_transform    = MatchPrior(config.priors, config.center_variance, config.size_variance, 0.5)\n",
    "test_transform      = TestTransform(config.image_size, config.image_mean, config.image_std)"
   ]
  },
  {
   "cell_type": "code",
   "execution_count": 8,
   "metadata": {
    "scrolled": true
   },
   "outputs": [
    {
     "name": "stdout",
     "output_type": "stream",
     "text": [
      "Split 'train' already downloaded\n",
      "Loading 'voc-2012' split 'train'\n",
      " 100% |███████████████| 5717/5717 [8.9s elapsed, 0s remaining, 581.7 samples/s]      \n",
      "Dataset 'voc-2012-train' created\n"
     ]
    }
   ],
   "source": [
    "# Load the data from fiftyone\n",
    "voc_2012_train = foz.load_zoo_dataset(\"voc-2012\", split=\"train\")"
   ]
  },
  {
   "cell_type": "markdown",
   "metadata": {},
   "source": [
    "### Visualize the dataset"
   ]
  },
  {
   "cell_type": "code",
   "execution_count": null,
   "metadata": {
    "scrolled": true
   },
   "outputs": [],
   "source": [
    "session = fo.launch_app(voc_2012_train)"
   ]
  },
  {
   "cell_type": "code",
   "execution_count": 9,
   "metadata": {},
   "outputs": [
    {
     "name": "stderr",
     "output_type": "stream",
     "text": [
      "[INFO] 2022-06-20 19:55:11,456 __main__: Train dataset size: 5717\n"
     ]
    }
   ],
   "source": [
    "# Convert to pytorch dataloader\n",
    "train_dataset = FiftyOneDataset(voc_2012_train, \n",
    "                                foz.load_zoo_dataset_info(\"voc-2012\").classes, \n",
    "                                transform=train_transform,\n",
    "                                target_transform=target_transform)\n",
    "\n",
    "# Load Training Dataset from Local Disk\n",
    "# train_dataset = VOCDataset(\"examples/VOC2012\", transform=train_transform,\n",
    "#                              target_transform=target_transform)\n",
    "\n",
    "train_loader  = DataLoader(train_dataset, batch_size,\n",
    "                          num_workers=num_workers,\n",
    "                          shuffle=True)\n",
    "\n",
    "logger.info(\"Train dataset size: {}\".format(len(train_dataset)))"
   ]
  },
  {
   "cell_type": "markdown",
   "metadata": {},
   "source": [
    "# Load Validation Dataset"
   ]
  },
  {
   "cell_type": "code",
   "execution_count": 10,
   "metadata": {},
   "outputs": [
    {
     "name": "stdout",
     "output_type": "stream",
     "text": [
      "Split 'train' already downloaded\n",
      "Loading 'voc-2007' split 'train'\n",
      " 100% |███████████████| 2501/2501 [4.0s elapsed, 0s remaining, 590.9 samples/s]      \n",
      "Dataset 'voc-2007-train' created\n"
     ]
    },
    {
     "name": "stderr",
     "output_type": "stream",
     "text": [
      "[INFO] 2022-06-20 19:55:16,834 __main__: validation dataset size: 2501\n"
     ]
    }
   ],
   "source": [
    "# Load Validation Dataset from FiftyOne (use voc-2007 train as validation here)\n",
    "val_dataset  = FiftyOneDataset(foz.load_zoo_dataset(\"voc-2007\", split=\"train\"), \n",
    "                                        foz.load_zoo_dataset_info(\"voc-2007\").classes,\n",
    "                                        transform=test_transform,\n",
    "                                        target_transform=target_transform)\n",
    "\n",
    "# Load Validation Dataset from Local Disk\n",
    "# val_dataset = VOCDataset(\"VOC2007/\", transform=test_transform,\n",
    "#                              target_transform=target_transform, is_test=True)\n",
    "\n",
    "val_loader = DataLoader(val_dataset, batch_size,\n",
    "                        num_workers=num_workers,\n",
    "                        shuffle=False)\n",
    "\n",
    "logger.info(\"validation dataset size: {}\".format(len(val_dataset)))"
   ]
  },
  {
   "cell_type": "markdown",
   "metadata": {},
   "source": [
    "# Train Mobilenet V2 SSD Lite"
   ]
  },
  {
   "cell_type": "code",
   "execution_count": 11,
   "metadata": {},
   "outputs": [],
   "source": [
    "from what.models.detection.ssd.mobilenet_v2_ssd_lite import MobileNetV2SSDLite"
   ]
  },
  {
   "cell_type": "code",
   "execution_count": 12,
   "metadata": {
    "scrolled": true
   },
   "outputs": [
    {
     "name": "stderr",
     "output_type": "stream",
     "text": [
      "[INFO] 2022-06-20 19:55:16,996 what.models.detection.ssd.mobilenet_v2_ssd_lite: Init from pretrained ssd models/mobilenet-v2-ssd-lite-mp-0_686.pth\n",
      "[INFO] 2022-06-20 19:55:18,670 what.models.detection.ssd.mobilenet_v2_ssd_lite: Start training using CosineAnnealingLR scheduler.\n",
      "/home/wuhanstudio/Desktop/whitebox-adversarial-toolbox/what/models/detection/ssd/transforms/transforms.py:244: VisibleDeprecationWarning: Creating an ndarray from ragged nested sequences (which is a list-or-tuple of lists-or-tuples-or ndarrays with different lengths or shapes) is deprecated. If you meant to do this, you must specify 'dtype=object' when creating the ndarray\n",
      "  mode = random.choice(self.sample_options)\n",
      "[INFO] 2022-06-20 19:55:23,569 what.models.detection.ssd.mobilenet_v2_ssd_lite: Epoch: 0, Step: 10, Average Loss: 22.4182, Average Regression Loss 4.2713, Average Classification Loss: 18.1469\n",
      "[INFO] 2022-06-20 19:55:27,751 what.models.detection.ssd.mobilenet_v2_ssd_lite: Epoch: 0, Step: 20, Average Loss: 16.7822, Average Regression Loss 3.0081, Average Classification Loss: 13.7741\n",
      "[INFO] 2022-06-20 19:55:32,151 what.models.detection.ssd.mobilenet_v2_ssd_lite: Epoch: 0, Step: 30, Average Loss: 14.7486, Average Regression Loss 2.6210, Average Classification Loss: 12.1276\n",
      "[INFO] 2022-06-20 19:55:36,486 what.models.detection.ssd.mobilenet_v2_ssd_lite: Epoch: 0, Step: 40, Average Loss: 13.1190, Average Regression Loss 2.2678, Average Classification Loss: 10.8512\n",
      "[INFO] 2022-06-20 19:55:40,744 what.models.detection.ssd.mobilenet_v2_ssd_lite: Epoch: 0, Step: 50, Average Loss: 11.8597, Average Regression Loss 2.2432, Average Classification Loss: 9.6164\n",
      "[INFO] 2022-06-20 19:55:45,089 what.models.detection.ssd.mobilenet_v2_ssd_lite: Epoch: 0, Step: 60, Average Loss: 10.8348, Average Regression Loss 2.0559, Average Classification Loss: 8.7789\n",
      "[INFO] 2022-06-20 19:55:49,434 what.models.detection.ssd.mobilenet_v2_ssd_lite: Epoch: 0, Step: 70, Average Loss: 9.8359, Average Regression Loss 1.9142, Average Classification Loss: 7.9217\n",
      "[INFO] 2022-06-20 19:55:53,594 what.models.detection.ssd.mobilenet_v2_ssd_lite: Epoch: 0, Step: 80, Average Loss: 9.1001, Average Regression Loss 1.8031, Average Classification Loss: 7.2970\n",
      "[INFO] 2022-06-20 19:55:57,849 what.models.detection.ssd.mobilenet_v2_ssd_lite: Epoch: 0, Step: 90, Average Loss: 8.6603, Average Regression Loss 1.8471, Average Classification Loss: 6.8133\n",
      "[INFO] 2022-06-20 19:56:02,185 what.models.detection.ssd.mobilenet_v2_ssd_lite: Epoch: 0, Step: 100, Average Loss: 8.0113, Average Regression Loss 1.7620, Average Classification Loss: 6.2494\n",
      "[INFO] 2022-06-20 19:56:06,476 what.models.detection.ssd.mobilenet_v2_ssd_lite: Epoch: 0, Step: 110, Average Loss: 7.4521, Average Regression Loss 1.6346, Average Classification Loss: 5.8175\n",
      "[INFO] 2022-06-20 19:56:10,739 what.models.detection.ssd.mobilenet_v2_ssd_lite: Epoch: 0, Step: 120, Average Loss: 7.1718, Average Regression Loss 1.6793, Average Classification Loss: 5.4925\n",
      "[INFO] 2022-06-20 19:56:15,227 what.models.detection.ssd.mobilenet_v2_ssd_lite: Epoch: 0, Step: 130, Average Loss: 7.1433, Average Regression Loss 1.6950, Average Classification Loss: 5.4483\n",
      "[INFO] 2022-06-20 19:56:19,491 what.models.detection.ssd.mobilenet_v2_ssd_lite: Epoch: 0, Step: 140, Average Loss: 6.8724, Average Regression Loss 1.7079, Average Classification Loss: 5.1645\n",
      "[INFO] 2022-06-20 19:56:23,779 what.models.detection.ssd.mobilenet_v2_ssd_lite: Epoch: 0, Step: 150, Average Loss: 6.4853, Average Regression Loss 1.5481, Average Classification Loss: 4.9372\n",
      "[INFO] 2022-06-20 19:56:28,062 what.models.detection.ssd.mobilenet_v2_ssd_lite: Epoch: 0, Step: 160, Average Loss: 6.4509, Average Regression Loss 1.5880, Average Classification Loss: 4.8629\n",
      "[INFO] 2022-06-20 19:56:32,462 what.models.detection.ssd.mobilenet_v2_ssd_lite: Epoch: 0, Step: 170, Average Loss: 6.5300, Average Regression Loss 1.6951, Average Classification Loss: 4.8348\n",
      "[INFO] 2022-06-20 19:56:50,237 what.models.detection.ssd.mobilenet_v2_ssd_lite: Epoch: 0, Validation Loss: 5.8372, Validation Regression Loss 1.4384, Validation Classification Loss: 4.3989\n",
      "[INFO] 2022-06-20 19:56:50,284 what.models.detection.ssd.mobilenet_v2_ssd_lite: Saved model models/mobilenet-v2-ssd-lite-Epoch-0-Loss-5.837247184560269.pth\n"
     ]
    }
   ],
   "source": [
    "# Create SSD network and load pretrained base net.\n",
    "model = MobileNetV2SSDLite(is_test=False, class_names=train_dataset.classes)\n",
    "\n",
    "model.train(train_loader, val_loader, device=device, num_epochs=1, debug_steps=10, validation_epochs=1,\n",
    "           pretrained_ssd = pretrained_ssd, checkpoint_folder = checkpoint_folder)"
   ]
  },
  {
   "cell_type": "code",
   "execution_count": null,
   "metadata": {},
   "outputs": [],
   "source": []
  }
 ],
 "metadata": {
  "kernelspec": {
   "display_name": "Python 3 (ipykernel)",
   "language": "python",
   "name": "python3"
  },
  "language_info": {
   "codemirror_mode": {
    "name": "ipython",
    "version": 3
   },
   "file_extension": ".py",
   "mimetype": "text/x-python",
   "name": "python",
   "nbconvert_exporter": "python",
   "pygments_lexer": "ipython3",
   "version": "3.8.0"
  }
 },
 "nbformat": 4,
 "nbformat_minor": 4
}
