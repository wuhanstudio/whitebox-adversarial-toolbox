{
 "cells": [
  {
   "cell_type": "code",
   "execution_count": 1,
   "metadata": {},
   "outputs": [],
   "source": [
    "import what.utils.logger as log\n",
    "\n",
    "logger = log.get_logger(__name__)"
   ]
  },
  {
   "cell_type": "code",
   "execution_count": 2,
   "metadata": {},
   "outputs": [],
   "source": [
    "import torch\n",
    "device = torch.device(\"cuda:0\" if torch.cuda.is_available() else \"cpu\")"
   ]
  },
  {
   "cell_type": "code",
   "execution_count": 3,
   "metadata": {},
   "outputs": [],
   "source": [
    "pretrained_ssd = \"models/mobilenet-v2-ssd-lite-mp-0_686.pth\"\n",
    "checkpoint_folder = \"models/\""
   ]
  },
  {
   "cell_type": "markdown",
   "metadata": {},
   "source": [
    "# Load Training Dataset"
   ]
  },
  {
   "cell_type": "code",
   "execution_count": 4,
   "metadata": {},
   "outputs": [],
   "source": [
    "batch_size = 32\n",
    "num_workers = 0"
   ]
  },
  {
   "cell_type": "code",
   "execution_count": 5,
   "metadata": {},
   "outputs": [],
   "source": [
    "import fiftyone as fo\n",
    "import fiftyone.zoo as foz\n",
    "from torch.utils.data import DataLoader\n",
    "\n",
    "from what.models.detection.ssd.datasets.fiftyone import FiftyOneDataset"
   ]
  },
  {
   "cell_type": "code",
   "execution_count": 6,
   "metadata": {},
   "outputs": [],
   "source": [
    "from what.models.detection.ssd.ssd.preprocessing import TrainAugmentation, TestTransform\n",
    "from what.models.detection.ssd.ssd.config import mobilenetv1_ssd_config\n",
    "from what.models.detection.ssd.ssd.ssd import MatchPrior"
   ]
  },
  {
   "cell_type": "code",
   "execution_count": 7,
   "metadata": {},
   "outputs": [],
   "source": [
    "# Load MobileNetSSD configuration\n",
    "config              = mobilenetv1_ssd_config\n",
    "train_transform     = TrainAugmentation(config.image_size, config.image_mean, config.image_std)\n",
    "target_transform    = MatchPrior(config.priors, config.center_variance, config.size_variance, 0.5)\n",
    "test_transform      = TestTransform(config.image_size, config.image_mean, config.image_std)"
   ]
  },
  {
   "cell_type": "code",
   "execution_count": 8,
   "metadata": {
    "scrolled": true
   },
   "outputs": [
    {
     "name": "stdout",
     "output_type": "stream",
     "text": [
      "Split 'train' already downloaded\n",
      "Loading existing dataset 'voc-2012-train'. To reload from disk, either delete the existing dataset or provide a custom `dataset_name` to use\n"
     ]
    }
   ],
   "source": [
    "# Load the data from fiftyone\n",
    "voc_2012_train = foz.load_zoo_dataset(\"voc-2012\", split=\"train\")"
   ]
  },
  {
   "cell_type": "code",
   "execution_count": 9,
   "metadata": {},
   "outputs": [
    {
     "name": "stdout",
     "output_type": "stream",
     "text": [
      "Connected to FiftyOne on port 5151 at 127.0.0.1.\n",
      "If you are not connecting to a remote session, you may need to start a new session and specify a port\n"
     ]
    },
    {
     "data": {
      "text/html": [
       "\n",
       "        <iframe\n",
       "            width=\"100%\"\n",
       "            height=\"800\"\n",
       "            src=\"http://localhost:5151/?notebook=true&handleId=d88ccf26-1d8c-4d74-bc59-e8182daf11aa\"\n",
       "            frameborder=\"0\"\n",
       "            allowfullscreen\n",
       "        ></iframe>\n",
       "        "
      ],
      "text/plain": [
       "<IPython.lib.display.IFrame at 0x27cc14e21c8>"
      ]
     },
     "metadata": {},
     "output_type": "display_data"
    }
   ],
   "source": [
    "# Visualize the dataset\n",
    "session = fo.launch_app(voc_2012_train)"
   ]
  },
  {
   "cell_type": "code",
   "execution_count": 10,
   "metadata": {},
   "outputs": [
    {
     "name": "stderr",
     "output_type": "stream",
     "text": [
      "[INFO] 2022-01-14 16:43:25,413 __main__: Train dataset size: 5717\n"
     ]
    }
   ],
   "source": [
    "# Convert to pytorch dataloader\n",
    "train_dataset = FiftyOneDataset(voc_2012_train, \n",
    "                                foz.load_zoo_dataset_info(\"voc-2012\").classes, \n",
    "                                transform=train_transform,\n",
    "                                target_transform=target_transform)\n",
    "\n",
    "# Load Training Dataset from Local Disk\n",
    "# train_dataset = VOCDataset(\"examples/VOC2012\", transform=train_transform,\n",
    "#                              target_transform=target_transform)\n",
    "\n",
    "train_loader  = DataLoader(train_dataset, batch_size,\n",
    "                          num_workers=num_workers,\n",
    "                          shuffle=True)\n",
    "\n",
    "logger.info(\"Train dataset size: {}\".format(len(train_dataset)))"
   ]
  },
  {
   "cell_type": "markdown",
   "metadata": {},
   "source": [
    "# Load Validation Dataset"
   ]
  },
  {
   "cell_type": "code",
   "execution_count": 11,
   "metadata": {},
   "outputs": [
    {
     "name": "stdout",
     "output_type": "stream",
     "text": [
      "Split 'train' already downloaded\n",
      "Loading existing dataset 'voc-2007-train'. To reload from disk, either delete the existing dataset or provide a custom `dataset_name` to use\n"
     ]
    },
    {
     "name": "stderr",
     "output_type": "stream",
     "text": [
      "[INFO] 2022-01-14 16:43:25,514 __main__: validation dataset size: 2501\n"
     ]
    }
   ],
   "source": [
    "# Load Validation Dataset from FiftyOne (use voc-2007 train as validation here)\n",
    "val_dataset  = FiftyOneDataset(foz.load_zoo_dataset(\"voc-2007\", split=\"train\"), \n",
    "                                        foz.load_zoo_dataset_info(\"voc-2007\").classes,\n",
    "                                        transform=test_transform,\n",
    "                                        target_transform=target_transform)\n",
    "\n",
    "# Load Validation Dataset from Local Disk\n",
    "# val_dataset = VOCDataset(\"VOC2007/\", transform=test_transform,\n",
    "#                              target_transform=target_transform, is_test=True)\n",
    "\n",
    "val_loader = DataLoader(val_dataset, batch_size,\n",
    "                        num_workers=num_workers,\n",
    "                        shuffle=False)\n",
    "\n",
    "logger.info(\"validation dataset size: {}\".format(len(val_dataset)))"
   ]
  },
  {
   "cell_type": "markdown",
   "metadata": {},
   "source": [
    "# Train Mobilenet V2 SSD Lite"
   ]
  },
  {
   "cell_type": "code",
   "execution_count": 12,
   "metadata": {},
   "outputs": [],
   "source": [
    "from what.models.detection.ssd.mobilenet_v2_ssd_lite import MobileNetV2SSDLite"
   ]
  },
  {
   "cell_type": "code",
   "execution_count": 13,
   "metadata": {
    "scrolled": true
   },
   "outputs": [
    {
     "name": "stderr",
     "output_type": "stream",
     "text": [
      "[INFO] 2022-01-14 16:43:25,687 what.models.detection.ssd.mobilenet_v2_ssd_lite: Init from pretrained ssd models/mobilenet-v2-ssd-lite-mp-0_686.pth\n",
      "[INFO] 2022-01-14 16:43:25,778 what.models.detection.ssd.mobilenet_v2_ssd_lite: Start training using CosineAnnealingLR scheduler.\n",
      "[INFO] 2022-01-14 16:45:32,873 what.models.detection.ssd.mobilenet_v2_ssd_lite: Epoch: 0, Step: 10, Average Loss: 22.4287, Average Regression Loss 4.4760, Average Classification Loss: 17.9527\n",
      "[INFO] 2022-01-14 16:47:33,999 what.models.detection.ssd.mobilenet_v2_ssd_lite: Epoch: 0, Step: 20, Average Loss: 16.8115, Average Regression Loss 3.1899, Average Classification Loss: 13.6216\n",
      "[INFO] 2022-01-14 16:49:14,377 what.models.detection.ssd.mobilenet_v2_ssd_lite: Epoch: 0, Step: 30, Average Loss: 14.7194, Average Regression Loss 2.7147, Average Classification Loss: 12.0047\n",
      "[INFO] 2022-01-14 16:51:05,994 what.models.detection.ssd.mobilenet_v2_ssd_lite: Epoch: 0, Step: 40, Average Loss: 13.0328, Average Regression Loss 2.3799, Average Classification Loss: 10.6529\n",
      "[INFO] 2022-01-14 16:53:04,623 what.models.detection.ssd.mobilenet_v2_ssd_lite: Epoch: 0, Step: 50, Average Loss: 11.7188, Average Regression Loss 2.1974, Average Classification Loss: 9.5214\n",
      "[INFO] 2022-01-14 16:54:57,307 what.models.detection.ssd.mobilenet_v2_ssd_lite: Epoch: 0, Step: 60, Average Loss: 10.6951, Average Regression Loss 1.9971, Average Classification Loss: 8.6981\n",
      "[INFO] 2022-01-14 16:56:37,543 what.models.detection.ssd.mobilenet_v2_ssd_lite: Epoch: 0, Step: 70, Average Loss: 9.8587, Average Regression Loss 1.9304, Average Classification Loss: 7.9283\n",
      "[INFO] 2022-01-14 16:58:19,200 what.models.detection.ssd.mobilenet_v2_ssd_lite: Epoch: 0, Step: 80, Average Loss: 9.1829, Average Regression Loss 1.9442, Average Classification Loss: 7.2387\n",
      "[INFO] 2022-01-14 17:00:11,192 what.models.detection.ssd.mobilenet_v2_ssd_lite: Epoch: 0, Step: 90, Average Loss: 8.6043, Average Regression Loss 1.9577, Average Classification Loss: 6.6466\n",
      "[INFO] 2022-01-14 17:02:06,719 what.models.detection.ssd.mobilenet_v2_ssd_lite: Epoch: 0, Step: 100, Average Loss: 8.0515, Average Regression Loss 1.8516, Average Classification Loss: 6.1998\n",
      "[INFO] 2022-01-14 17:03:59,288 what.models.detection.ssd.mobilenet_v2_ssd_lite: Epoch: 0, Step: 110, Average Loss: 7.7770, Average Regression Loss 1.8435, Average Classification Loss: 5.9335\n",
      "[INFO] 2022-01-14 17:05:48,808 what.models.detection.ssd.mobilenet_v2_ssd_lite: Epoch: 0, Step: 120, Average Loss: 7.3675, Average Regression Loss 1.5821, Average Classification Loss: 5.7854\n",
      "[INFO] 2022-01-14 17:07:49,995 what.models.detection.ssd.mobilenet_v2_ssd_lite: Epoch: 0, Step: 130, Average Loss: 7.1614, Average Regression Loss 1.8407, Average Classification Loss: 5.3207\n",
      "[INFO] 2022-01-14 17:09:43,115 what.models.detection.ssd.mobilenet_v2_ssd_lite: Epoch: 0, Step: 140, Average Loss: 6.7471, Average Regression Loss 1.6862, Average Classification Loss: 5.0609\n",
      "[INFO] 2022-01-14 17:11:38,224 what.models.detection.ssd.mobilenet_v2_ssd_lite: Epoch: 0, Step: 150, Average Loss: 6.5708, Average Regression Loss 1.5353, Average Classification Loss: 5.0354\n",
      "[INFO] 2022-01-14 17:13:27,657 what.models.detection.ssd.mobilenet_v2_ssd_lite: Epoch: 0, Step: 160, Average Loss: 6.5160, Average Regression Loss 1.6219, Average Classification Loss: 4.8941\n",
      "[INFO] 2022-01-14 17:15:18,207 what.models.detection.ssd.mobilenet_v2_ssd_lite: Epoch: 0, Step: 170, Average Loss: 6.3947, Average Regression Loss 1.5642, Average Classification Loss: 4.8304\n",
      "[INFO] 2022-01-14 17:21:27,439 what.models.detection.ssd.mobilenet_v2_ssd_lite: Epoch: 0, Validation Loss: 5.8529, Validation Regression Loss 1.4493, Validation Classification Loss: 4.4037\n",
      "[INFO] 2022-01-14 17:21:27,492 what.models.detection.ssd.mobilenet_v2_ssd_lite: Saved model models/mobilenet-v2-ssd-lite-Epoch-0-Loss-5.852912365635739.pth\n"
     ]
    }
   ],
   "source": [
    "# Create SSD network and load pretrained base net.\n",
    "model = MobileNetV2SSDLite(is_test=False)\n",
    "\n",
    "model.train(train_loader, val_loader, device=device, num_epochs=1, debug_steps=10, validation_epochs=1,\n",
    "           pretrained_ssd = pretrained_ssd, checkpoint_folder = checkpoint_folder)"
   ]
  },
  {
   "cell_type": "code",
   "execution_count": null,
   "metadata": {},
   "outputs": [],
   "source": []
  }
 ],
 "metadata": {
  "kernelspec": {
   "display_name": "Python 3",
   "language": "python",
   "name": "python3"
  },
  "language_info": {
   "codemirror_mode": {
    "name": "ipython",
    "version": 3
   },
   "file_extension": ".py",
   "mimetype": "text/x-python",
   "name": "python",
   "nbconvert_exporter": "python",
   "pygments_lexer": "ipython3",
   "version": "3.7.9"
  }
 },
 "nbformat": 4,
 "nbformat_minor": 4
}
